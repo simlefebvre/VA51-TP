{
 "cells": [
  {
   "cell_type": "code",
   "execution_count": 9,
   "metadata": {},
   "outputs": [],
   "source": [
    "import cv2 as cv\n",
    "import numpy as np\n",
    "import matplotlib.pyplot as plt\n",
    "from math import cos, sin"
   ]
  },
  {
   "cell_type": "code",
   "execution_count": 4,
   "metadata": {},
   "outputs": [],
   "source": [
    "sX1 = np.array([1,1,-1,1])\n",
    "sX2 = np.array([-1,1,-1,1])\n",
    "sX3 = np.array([-1,-1,1,1])\n",
    "sX4 = np.array([1,-1,1,1])"
   ]
  },
  {
   "cell_type": "code",
   "execution_count": 28,
   "metadata": {},
   "outputs": [],
   "source": [
    "def projection(point3D):\n",
    "    return np.array([point3D[0]/point3D[2],point3D[1]/point3D[2],1])"
   ]
  },
  {
   "cell_type": "markdown",
   "metadata": {},
   "source": [
    "**_Definition Camera_**<br>**parametre extrasèque**"
   ]
  },
  {
   "cell_type": "code",
   "execution_count": 92,
   "metadata": {},
   "outputs": [],
   "source": [
    "from math import radians\n",
    "\n",
    "\n",
    "orientation = {'alpha' : radians(45.0) , 'beta' : radians(45.0), 'gamma' : radians(45.0)}\n",
    "positionCamera = np.array([[0,0,10]])"
   ]
  },
  {
   "cell_type": "markdown",
   "metadata": {},
   "source": [
    "**Parametre intrasèque**"
   ]
  },
  {
   "cell_type": "code",
   "execution_count": 93,
   "metadata": {},
   "outputs": [],
   "source": [
    "alphaU = 700\n",
    "alphaV = 700\n",
    "u0 = 400\n",
    "v0 = 300\n",
    "\n",
    "K = np.array([[alphaU,0,u0],[0,alphaV,v0],[0,0,1]])"
   ]
  },
  {
   "cell_type": "code",
   "execution_count": 94,
   "metadata": {},
   "outputs": [],
   "source": [
    "Ralpha = np.array([[1, 0, 0], [0, cos(orientation['alpha']), -sin(orientation['alpha'])], [0, sin(orientation['alpha']), cos(orientation['alpha'])]])\n",
    "Rbeta = np.array([[cos(orientation['beta']), 0, sin(orientation['beta'])], [0, 1, 0], [-sin(orientation['beta']), 0, cos(orientation['beta'])]])\n",
    "Rgamma = np.array([[cos(orientation['gamma']), -sin(orientation['gamma']), 0], [sin(orientation['gamma']), cos(orientation['gamma']), 0], [0, 0, 1]])\n",
    "\n",
    "cRs = np.dot(Rgamma, Rbeta, Ralpha)"
   ]
  },
  {
   "cell_type": "code",
   "execution_count": 95,
   "metadata": {},
   "outputs": [
    {
     "data": {
      "text/plain": [
       "0.7071067811865476"
      ]
     },
     "execution_count": 95,
     "metadata": {},
     "output_type": "execute_result"
    }
   ],
   "source": [
    "cos(orientation['alpha'])"
   ]
  },
  {
   "cell_type": "code",
   "execution_count": 96,
   "metadata": {},
   "outputs": [],
   "source": [
    "cMs = np.concatenate((cRs, positionCamera.T), axis=1)\n",
    "cMs = np.concatenate((cMs, np.array([[0, 0, 0, 1]])), axis=0)"
   ]
  },
  {
   "cell_type": "code",
   "execution_count": 97,
   "metadata": {},
   "outputs": [],
   "source": [
    "u1 = np.dot(K,projection(np.dot(cMs,sX1)))[:2]\n",
    "u2 = np.dot(K,projection(np.dot(cMs,sX2)))[:2]\n",
    "u3 = np.dot(K,projection(np.dot(cMs,sX3)))[:2]\n",
    "u4 = np.dot(K,projection(np.dot(cMs,sX4)))[:2]"
   ]
  },
  {
   "cell_type": "code",
   "execution_count": 98,
   "metadata": {},
   "outputs": [
    {
     "data": {
      "text/plain": [
       "(0.0, 600.0)"
      ]
     },
     "execution_count": 98,
     "metadata": {},
     "output_type": "execute_result"
    },
    {
     "data": {
      "image/png": "[encoded data removed]",
      "text/plain": [
       "<Figure size 640x480 with 1 Axes>"
      ]
     },
     "metadata": {},
     "output_type": "display_data"
    }
   ],
   "source": [
    "plt.scatter(u1[0],u1[1])\n",
    "plt.scatter(u2[0],u2[1])\n",
    "plt.scatter(u3[0],u3[1])\n",
    "plt.scatter(u4[0],u4[1])\n",
    "\n",
    "plt.xlim(0,800)\n",
    "plt.ylim(0,600)"
   ]
  }
 ],
 "metadata": {
  "kernelspec": {
   "display_name": "Python 3.9.7 64-bit (system)",
   "language": "python",
   "name": "python3"
  },
  "language_info": {
   "codemirror_mode": {
    "name": "ipython",
    "version": 3
   },
   "file_extension": ".py",
   "mimetype": "text/x-python",
   "name": "python",
   "nbconvert_exporter": "python",
   "pygments_lexer": "ipython3",
   "version": "3.9.7"
  },
  "orig_nbformat": 4,
  "vscode": {
   "interpreter": {
    "hash": "11938c6bc6919ae2720b4d5011047913343b08a43b18698fd82dedb0d4417594"
   }
  }
 },
 "nbformat": 4,
 "nbformat_minor": 2
}
